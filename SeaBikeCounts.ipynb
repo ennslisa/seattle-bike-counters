{
 "cells": [
  {
   "cell_type": "code",
   "execution_count": null,
   "metadata": {},
   "outputs": [],
   "source": [
    "# make sure to install these packages before running:\n",
    "# pip install pandas\n",
    "# pip install sodapy\n",
    "\n",
    "import requests\n",
    "import pandas as pd\n",
    "import numpy as np\n",
    "from sodapy import Socrata\n"
   ]
  },
  {
   "cell_type": "markdown",
   "metadata": {},
   "source": [
    "## Create a Socrata account"
   ]
  },
  {
   "cell_type": "markdown",
   "metadata": {},
   "source": [
    "You'll need to create a Socrata account at https://data.seattle.gov/signup to be given an API token."
   ]
  },
  {
   "cell_type": "code",
   "execution_count": null,
   "metadata": {},
   "outputs": [],
   "source": [
    "token = 'your API token'"
   ]
  },
  {
   "cell_type": "code",
   "execution_count": null,
   "metadata": {},
   "outputs": [],
   "source": [
    "#set the client to data.seattle.gov\n",
    "client = Socrata(\"data.seattle.gov\", token)"
   ]
  },
  {
   "cell_type": "markdown",
   "metadata": {},
   "source": [
    "## Get the data from each individual counter\n",
    "Each bike counter has an API endpoint used for access to the data."
   ]
  },
  {
   "cell_type": "code",
   "execution_count": null,
   "metadata": {},
   "outputs": [],
   "source": [
    "# First 100,000 results, returned as JSON from API / converted to Python list of\n",
    "# dictionaries by sodapy.\n",
    "#I couldn't get the code to work without setting some sort of limit\n",
    "fremont = client.get(\"65db-xm6k\", limit = 100000)\n",
    "\n",
    "# Convert to pandas DataFrame\n",
    "fremont = pd.DataFrame.from_records(fremont)\n",
    "\n",
    "#now do the rest of the bike counters\n",
    "fiftyeight = client.get(\"47yq-6ugv\", limit = 100000)\n",
    "fiftyeight = pd.DataFrame.from_records(fiftyeight)\n",
    "\n",
    "bgt = client.get(\"2z5v-ecg8\", limit = 100000)\n",
    "bgt = pd.DataFrame.from_records(bgt)\n",
    "\n",
    "thirtynine = client.get(\"3h7e-f49s\", limit = 100000)\n",
    "thirtynine = pd.DataFrame.from_records(thirtynine)\n",
    "\n",
    "broadway = client.get(\"j4vh-b42a\", limit = 100000)\n",
    "broadway = pd.DataFrame.from_records(broadway)\n",
    "\n",
    "twentysix = client.get(\"mefu-7eau\", limit = 100000)\n",
    "twentysix = pd.DataFrame.from_records(twentysix)\n",
    "\n",
    "elliotbay = client.get(\"4qej-qvrz\", limit = 100000)\n",
    "elliotbay = pd.DataFrame.from_records(elliotbay)\n",
    "\n",
    "bgt = client.get(\"2z5v-ecg8\", limit = 100000)\n",
    "bgt = pd.DataFrame.from_records(bgt)\n",
    "\n",
    "mtsw = client.get(\"u38e-ybnc\", limit = 100000)\n",
    "mtsw = pd.DataFrame.from_records(mtsw)\n",
    "\n",
    "cheifsealth = client.get(\"uh8h-bme7\", limit = 100000)\n",
    "cheifsealth = pd.DataFrame.from_records(cheifsealth)\n",
    "\n",
    "spokane = client.get(\"upms-nr8w\", limit = 100000)\n",
    "spokane = pd.DataFrame.from_records(spokane)\n",
    "\n",
    "second = client.get(\"avwm-i8ym\", limit = 100000)\n",
    "second = pd.DataFrame.from_records(second)"
   ]
  },
  {
   "cell_type": "markdown",
   "metadata": {},
   "source": [
    "## Format each dataset"
   ]
  },
  {
   "cell_type": "markdown",
   "metadata": {},
   "source": [
    "Note as of January 2020: A lot of bike counters have data inconsistencies. Cheaf Sealth is notoriously unreliable, and the greenways (thirtysix, fiftyeight, and twentysix) are also not as reliable, especially twentysix. Fremont and Spokane St are going to be the most reliable, with the Burke Gilman at 70th and Elliot Bay fairly reliable. MTS Greenway West is usually ok, although there are some months with data missing, it should be fairly obvious when it's not working."
   ]
  },
  {
   "cell_type": "code",
   "execution_count": null,
   "metadata": {},
   "outputs": [],
   "source": [
    "#get the columns in the right order so we can merge later\n",
    "fiftyeight = fiftyeight[['date','east','west','nw_58th_st_greenway_st_22nd_ave_nw_total']]\n",
    "#add a location field so we remember where these counts came from\n",
    "fiftyeight['loc'] = \"nw_58th_st_greenway_st_22nd_ave_nw\""
   ]
  },
  {
   "cell_type": "code",
   "execution_count": null,
   "metadata": {},
   "outputs": [],
   "source": [
    "bgt = bgt[['date','bike_north','bike_south','bgt_north_of_ne_70th_total']]\n",
    "bgt['loc'] = \"bgt_north_of_ne_70th\""
   ]
  },
  {
   "cell_type": "code",
   "execution_count": null,
   "metadata": {},
   "outputs": [],
   "source": [
    "fremont = fremont[['date','fremont_bridge_nb','fremont_bridge_sb']]\n",
    "#this file does not already have a totals column so we add one\n",
    "fremont['bike_tot'] = fremont['fremont_bridge_nb'].astype(float) + fremont['fremont_bridge_sb'].astype(float)\n",
    "fremont['loc'] = \"fremont_bridge\"\n"
   ]
  },
  {
   "cell_type": "code",
   "execution_count": null,
   "metadata": {},
   "outputs": [],
   "source": [
    "thirtynine = thirtynine[['date','north','south','_39th_ave_ne_greenway_at_ne_62nd_st_total']]\n",
    "thirtynine['loc'] = \"39th_ave_ne_greenway_at_ne_62nd_st\""
   ]
  },
  {
   "cell_type": "code",
   "execution_count": null,
   "metadata": {},
   "outputs": [],
   "source": [
    "broadway = broadway[['date','nb','sb','broadway_cycle_track_north_of_e_union_st_total']]\n",
    "broadway['loc'] = \"broadway_cycle_track_north_of_e_union_s\""
   ]
  },
  {
   "cell_type": "code",
   "execution_count": null,
   "metadata": {},
   "outputs": [],
   "source": [
    "twentysix = twentysix[['date','north','south','_26th_ave_sw_greenway_at_sw_oregon_st_total']]\n",
    "twentysix['loc'] = \"26th_ave_sw_greenway_at_sw_oregon_st\""
   ]
  },
  {
   "cell_type": "code",
   "execution_count": null,
   "metadata": {},
   "outputs": [],
   "source": [
    "elliotbay = elliotbay[['date','bike_north','bike_south']]\n",
    "elliotbay['biketot'] = elliotbay['bike_north'].astype(float) + elliotbay['bike_south'].astype(float)\n",
    "elliotbay['loc'] = \"elliotbay_myrtle_edwards\""
   ]
  },
  {
   "cell_type": "code",
   "execution_count": null,
   "metadata": {},
   "outputs": [],
   "source": [
    "mtsw = mtsw[['date','bike_east','bike_west','mts_trl_west_of_i_90_bridge_total']]\n",
    "mtsw['loc'] = \"mountains_to_sound_west_of_i90\""
   ]
  },
  {
   "cell_type": "code",
   "execution_count": null,
   "metadata": {},
   "outputs": [],
   "source": [
    "cheifsealth = cheifsealth[['date','bike_north','bike_south']]\n",
    "cheifsealth['biketot'] = cheifsealth['bike_north'].astype(float) + cheifsealth['bike_south'].astype(float)\n",
    "cheifsealth['loc'] = \"cheifsealth\""
   ]
  },
  {
   "cell_type": "code",
   "execution_count": null,
   "metadata": {},
   "outputs": [],
   "source": [
    "spokane = spokane[['date','east','west','spokane_st_bridge_total']]\n",
    "spokane['loc'] = \"spokane_st_bridge\""
   ]
  },
  {
   "cell_type": "code",
   "execution_count": null,
   "metadata": {},
   "outputs": [],
   "source": [
    "second = second[['date','nb','sb','_2nd_ave_cycletrack']]\n",
    "second['loc'] = \"2nd_ave_cycletrack\""
   ]
  },
  {
   "cell_type": "markdown",
   "metadata": {},
   "source": [
    "## Merge the datasets"
   ]
  },
  {
   "cell_type": "markdown",
   "metadata": {},
   "source": [
    "bikedir1 is either north or east; bikedir2 is either south or west. \n",
    "You could also change the format to have 4 columns: date, bikecount, direction, location which may make it easier for some types of analysis. If you are not very familiar with Seattle's bike counters, you may want to reformat so you don't have to remember if the counter is oriented east-west or north-south."
   ]
  },
  {
   "cell_type": "code",
   "execution_count": null,
   "metadata": {},
   "outputs": [],
   "source": [
    "allbikes = pd.DataFrame(np.concatenate( (fiftyeight.values,fremont.values,bgt.values,thirtynine.values,broadway.values,twentysix.values,elliotbay.values,mtsw.values,cheifsealth.values,spokane.values,second.values)))\n",
    "allbikes.columns = ['date','bikedir1','bikedir2','biketot','loc']\n",
    "allbikes"
   ]
  },
  {
   "cell_type": "markdown",
   "metadata": {},
   "source": [
    "## Save to file"
   ]
  },
  {
   "cell_type": "code",
   "execution_count": null,
   "metadata": {},
   "outputs": [],
   "source": [
    "allbikes.to_csv(\"X:\\\\YourFile\\\\allbikes.csv\")"
   ]
  }
 ],
 "metadata": {
  "kernelspec": {
   "display_name": "Python 3",
   "language": "python",
   "name": "python3"
  },
  "language_info": {
   "codemirror_mode": {
    "name": "ipython",
    "version": 3
   },
   "file_extension": ".py",
   "mimetype": "text/x-python",
   "name": "python",
   "nbconvert_exporter": "python",
   "pygments_lexer": "ipython3",
   "version": "3.7.1"
  }
 },
 "nbformat": 4,
 "nbformat_minor": 2
}
